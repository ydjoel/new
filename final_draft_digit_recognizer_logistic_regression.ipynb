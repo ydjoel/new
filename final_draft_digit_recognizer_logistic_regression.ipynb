{
  "nbformat": 4,
  "nbformat_minor": 0,
  "metadata": {
    "colab": {
      "name": "final_draft_digit_recognizer logistic regression",
      "provenance": [],
      "collapsed_sections": [],
      "include_colab_link": true
    },
    "kernelspec": {
      "name": "python3",
      "display_name": "Python 3"
    }
  },
  "cells": [
    {
      "cell_type": "markdown",
      "metadata": {
        "id": "view-in-github",
        "colab_type": "text"
      },
      "source": [
        "<a href=\"https://colab.research.google.com/github/ydjoel/new/blob/main/final_draft_digit_recognizer_logistic_regression.ipynb\" target=\"_parent\"><img src=\"https://colab.research.google.com/assets/colab-badge.svg\" alt=\"Open In Colab\"/></a>"
      ]
    },
    {
      "cell_type": "markdown",
      "metadata": {
        "id": "qqRinBcpCSL1"
      },
      "source": [
        "# imports"
      ]
    },
    {
      "cell_type": "code",
      "metadata": {
        "id": "IVHhrORUlzUi"
      },
      "source": [
        "import numpy as np\r\n",
        "import h5py\r\n",
        "import matplotlib.pyplot as plt"
      ],
      "execution_count": null,
      "outputs": []
    },
    {
      "cell_type": "markdown",
      "metadata": {
        "id": "nGgrf4BwCUpE"
      },
      "source": [
        "# load data"
      ]
    },
    {
      "cell_type": "code",
      "metadata": {
        "id": "H7p9n7N9lzLi"
      },
      "source": [
        "def load_mnist(filename):\r\n",
        "    MNIST_data = h5py.File(filename, 'r')\r\n",
        "    x_train = np.float32(MNIST_data['x_train'][:])\r\n",
        "    y_train = np.int32(np.array(MNIST_data['y_train'][:,0]))\r\n",
        "    x_test = np.float32(MNIST_data['x_test'][:])\r\n",
        "    y_test = np.int32(np.array(MNIST_data['y_test'][:,0]))\r\n",
        "    MNIST_data.close()\r\n",
        "    print(f'train data elements = {x_train.shape[0]} num of features = {x_train.shape[1]}' )\r\n",
        "    print(f'test  data elements = {x_test.shape[0]}  num of features = {x_test.shape[1]}' )\r\n",
        "    return x_train,y_train,x_test,y_test"
      ],
      "execution_count": null,
      "outputs": []
    },
    {
      "cell_type": "markdown",
      "metadata": {
        "id": "a0GDI2ieCYOP"
      },
      "source": [
        "# initialize parameters"
      ]
    },
    {
      "cell_type": "code",
      "metadata": {
        "id": "86kLnKyxlkO1"
      },
      "source": [
        "def initialize(num_inputs,num_classes):\r\n",
        "    \r\n",
        "    w = np.random.randn(num_classes, num_inputs) / np.sqrt(num_classes*num_inputs) \r\n",
        "    b = np.random.randn(num_classes, 1) / np.sqrt(num_classes) \r\n",
        "    \r\n",
        "    param = {\r\n",
        "        'w' : w, # (10*784)\r\n",
        "        'b' : b  # (10*1)\r\n",
        "    }\r\n",
        "    return param"
      ],
      "execution_count": null,
      "outputs": []
    },
    {
      "cell_type": "markdown",
      "metadata": {
        "id": "t5iWk6-_CdZn"
      },
      "source": [
        "# softmax function"
      ]
    },
    {
      "cell_type": "code",
      "metadata": {
        "id": "t9uopmsMlvFF"
      },
      "source": [
        "def softmax(z):\r\n",
        "\r\n",
        "    exp_list = np.exp(z)\r\n",
        "    result = 1/sum(exp_list) * exp_list\r\n",
        "    result = result.reshape((len(z),1))\r\n",
        "    assert (result.shape == (len(z),1))\r\n",
        "    return result"
      ],
      "execution_count": null,
      "outputs": []
    },
    {
      "cell_type": "markdown",
      "metadata": {
        "id": "78NsDKDzCf_s"
      },
      "source": [
        "# negative log loss"
      ]
    },
    {
      "cell_type": "code",
      "metadata": {
        "id": "DbliXHmYlvC1"
      },
      "source": [
        "def neg_log_loss(pred, label):\r\n",
        "    loss = -np.log(pred[int(label)])\r\n",
        "    return loss"
      ],
      "execution_count": null,
      "outputs": []
    },
    {
      "cell_type": "markdown",
      "metadata": {
        "id": "Z5H6JML9Cixk"
      },
      "source": [
        "# mini batch gradient"
      ]
    },
    {
      "cell_type": "code",
      "metadata": {
        "id": "ID06OrP_lkIj"
      },
      "source": [
        "def mini_batch_gradient(param, x_batch, y_batch):\r\n",
        "\r\n",
        "    batch_size = x_batch.shape[0]\r\n",
        "    w_grad_list = []\r\n",
        "    b_grad_list = []\r\n",
        "    batch_loss = 0\r\n",
        "    for i in range(batch_size):\r\n",
        "        x,y = x_batch[i],y_batch[i]\r\n",
        "        x = x.reshape((784,1)) # x: (784,1)\r\n",
        "        E = np.zeros((10,1)) #(10*1)\r\n",
        "        E[y][0] = 1 \r\n",
        "        pred = softmax(np.matmul(param['w'], x)+param['b']) #(10*1)\r\n",
        "\r\n",
        "        loss = neg_log_loss(pred, y)\r\n",
        "        batch_loss += loss\r\n",
        "\r\n",
        "        w_grad = E - pred\r\n",
        "        w_grad = - np.matmul(w_grad, x.reshape((1,784)))\r\n",
        "        w_grad_list.append(w_grad)\r\n",
        "\r\n",
        "        b_grad = -(E - pred)\r\n",
        "        b_grad_list.append(b_grad)\r\n",
        "      \r\n",
        "\r\n",
        "    dw = sum(w_grad_list)/batch_size\r\n",
        "    db = sum(b_grad_list)/batch_size\r\n",
        "    #print(\"wgrad\",w_grad_list[0])\r\n",
        "    #print(\"bgrad\",b_grad_list[0])\r\n",
        "    return dw, db, batch_loss"
      ],
      "execution_count": null,
      "outputs": []
    },
    {
      "cell_type": "markdown",
      "metadata": {
        "id": "s4TQ6AQ_CmIV"
      },
      "source": [
        "# evaluation"
      ]
    },
    {
      "cell_type": "code",
      "metadata": {
        "id": "NjQliV9SlkCk"
      },
      "source": [
        "def eval(param, x_data, y_data):\r\n",
        "\r\n",
        "    # w: (10*784), x: (10000*784), y:(10000,)\r\n",
        "    loss_list = []\r\n",
        "    w = param['w'].transpose()\r\n",
        "    dist = np.array([np.squeeze(softmax(np.matmul(x_data[i], w))) for i in range(len(y_data))])\r\n",
        "\r\n",
        "    result = np.argmax(dist,axis=1)\r\n",
        "    accuracy = sum(result == y_data)/float(len(y_data))\r\n",
        "\r\n",
        "    loss_list = [neg_log_loss(dist[i],y_data[i]) for i in range(len(y_data))]\r\n",
        "    loss = sum(loss_list)\r\n",
        "    return loss, accuracy,result"
      ],
      "execution_count": null,
      "outputs": []
    },
    {
      "cell_type": "markdown",
      "metadata": {
        "id": "Z-PF3RGLCuGs"
      },
      "source": [
        "# training"
      ]
    },
    {
      "cell_type": "code",
      "metadata": {
        "id": "xOqc_lSkleHw"
      },
      "source": [
        "def train(param, hyp , x_train, y_train, x_test, y_test):\r\n",
        "\r\n",
        "    num_epoches = hyp['num_epoches']\r\n",
        "    batch_size = hyp['batch_size']\r\n",
        "    learning_rate = hyp['learning_rate']\r\n",
        "    test_loss_list, test_accu_list = [],[]\r\n",
        "    train_loss_list,train_accu_list = [],[]\r\n",
        "    train_results,test_results = [],[]\r\n",
        "\r\n",
        "    for epoch in range(num_epoches):\r\n",
        "        \r\n",
        "        # select the random sequence of training set\r\n",
        "        rand_indices = np.random.choice(x_train.shape[0],x_train.shape[0],replace=False)\r\n",
        "        num_batch = int(x_train.shape[0]/batch_size)\r\n",
        "        batch_loss100 = 0\r\n",
        "        \r\n",
        "        if bool(hyp['learning_decay']) == True:\r\n",
        "            try:\r\n",
        "                if test_accu_list[-1] - test_accu_list[-2] < 0.001:\r\n",
        "                    learning_rate *= hyp['decay_factor']\r\n",
        "            except:\r\n",
        "                pass\r\n",
        "            \r\n",
        "            message = 'learning rate: %.8f' % learning_rate\r\n",
        "            print(message)\r\n",
        "\r\n",
        "        # for each batch of train data\r\n",
        "        for batch in range(num_batch):\r\n",
        "            index = rand_indices[batch_size*batch:batch_size*(batch+1)]\r\n",
        "            x_batch = x_train[index]\r\n",
        "            y_batch = y_train[index]\r\n",
        "\r\n",
        "            # calculate the gradient w.r.t w and b\r\n",
        "            dw, db, batch_loss = mini_batch_gradient(param, x_batch, y_batch)\r\n",
        "            batch_loss100 += batch_loss\r\n",
        "            # update the parameters with the learning rate\r\n",
        "            \r\n",
        "            param['w'] -= learning_rate * dw\r\n",
        "            param['b'] -= learning_rate * db\r\n",
        "            if batch % 100 == 0:\r\n",
        "                message = 'Epoch %d, Batch %d, Loss %.2f' % (epoch+1, batch, batch_loss)\r\n",
        "                #print(message)\r\n",
        "\r\n",
        "                batch_loss100 = 0\r\n",
        "        train_loss, train_accu,train_results = eval(param,x_train,y_train)\r\n",
        "        test_loss, test_accu,test_results = eval(param,x_test,y_test)\r\n",
        "        train_loss_list.append(train_loss)\r\n",
        "        test_loss_list.append(test_loss)\r\n",
        "        train_accu_list.append(train_accu)\r\n",
        "        test_accu_list.append(test_accu)\r\n",
        "\r\n",
        "        message = 'Epoch %d, Train Loss %.2f, Train Accu %.4f, Test Loss %.2f, Test Accu %.4f' % (epoch+1, train_loss, train_accu, test_loss, test_accu)\r\n",
        "        print(message)\r\n",
        "    return  train_loss_list,test_loss_list,train_accu_list,test_accu_list,train_results,test_results"
      ],
      "execution_count": null,
      "outputs": []
    },
    {
      "cell_type": "markdown",
      "metadata": {
        "id": "0ACGw4I-Cv7c"
      },
      "source": [
        "# plotting"
      ]
    },
    {
      "cell_type": "code",
      "metadata": {
        "id": "b0HLPa_HleGr"
      },
      "source": [
        "def plot(loss_list_train,loss_list_test, accu_list_train,accu_list_test):\r\n",
        "\r\n",
        "    plt.plot(loss_list_train)\r\n",
        "    plt.ylabel('Loss Function - test')\r\n",
        "    plt.xlabel('Epoch')\r\n",
        "    plt.xticks(rotation=60)\r\n",
        "    plt.title('Loss Function ~ Epoch')\r\n",
        "    plt.show()\r\n",
        "\r\n",
        "    '''plt.plot(loss_list_test)\r\n",
        "    plt.ylabel('Loss Function - train')\r\n",
        "    plt.xlabel('Epoch')\r\n",
        "    plt.xticks(rotation=60)\r\n",
        "    plt.title('Loss Function ~ Epoch')\r\n",
        "    plt.show()'''\r\n",
        "\r\n",
        "    '''plt.plot(accu_list_train)\r\n",
        "    plt.ylabel('Train Accuracy')\r\n",
        "    plt.xlabel('Epoch')\r\n",
        "    plt.xticks(rotation=60)\r\n",
        "    plt.title('Train Accuracy ~ Epoch')\r\n",
        "    plt.show()'''\r\n",
        "\r\n",
        "    plt.plot(accu_list_test)\r\n",
        "    plt.ylabel('Test Accuracy')\r\n",
        "    plt.xlabel('Epoch')\r\n",
        "    plt.xticks(rotation=60)\r\n",
        "    plt.title('Test Accuracy ~ Epoch')\r\n",
        "    plt.show()"
      ],
      "execution_count": null,
      "outputs": []
    },
    {
      "cell_type": "markdown",
      "metadata": {
        "id": "yrCwa5WUwZD_"
      },
      "source": [
        "#displaying data"
      ]
    },
    {
      "cell_type": "code",
      "metadata": {
        "colab": {
          "base_uri": "https://localhost:8080/"
        },
        "id": "LoWc9-jbldyE",
        "outputId": "9021de50-53bc-405d-c1f4-b6a5ec63111f"
      },
      "source": [
        "\r\n",
        "\r\n",
        "x_train,y_train,x_test,y_test = load_mnist('MNISTdata.hdf5')\r\n",
        "\r\n",
        "np.random.seed(1024)\r\n",
        "\r\n",
        "num_inputs = x_train.shape[1]\r\n",
        "num_classes = len(set(y_train))\r\n",
        "param = initialize(num_inputs,num_classes)\r\n",
        "\r\n",
        "hyperpara = {\r\n",
        "    \"num_epoches\" : 20,\r\n",
        "    \"batch_size\" : 100,\r\n",
        "    \"learning_rate\" : 0.0025,\r\n",
        "    \"learning_decay\" : 0,\r\n",
        "    \"decay_factor\" : 0.75,\r\n",
        "}\r\n"
      ],
      "execution_count": null,
      "outputs": [
        {
          "output_type": "stream",
          "text": [
            "train data elements = 60000 num of features = 784\n",
            "test  data elements = 10000  num of features = 784\n"
          ],
          "name": "stdout"
        }
      ]
    },
    {
      "cell_type": "code",
      "metadata": {
        "id": "uYXzEjxKz-Bj",
        "colab": {
          "base_uri": "https://localhost:8080/",
          "height": 283
        },
        "outputId": "d54f7de9-9e63-4ada-84b0-080d51189bcb"
      },
      "source": [
        "import numpy as np \r\n",
        "import matplotlib.pyplot as plt\r\n",
        "plt.figure(figsize=(20,4))\r\n",
        "\r\n",
        "for index, (image, label) in enumerate(zip(x_train[0:5], y_train[0:5])):\r\n",
        " plt.subplot(1, 5, index + 1)\r\n",
        " plt.imshow(np.reshape(image, (28,28)), cmap=plt.cm.gray)\r\n",
        " plt.title('Training: %i\\n' % label, fontsize = 20)"
      ],
      "execution_count": null,
      "outputs": [
        {
          "output_type": "display_data",
          "data": {
            "image/png": "[encoded data removed]",
            "text/plain": [
              "<Figure size 1440x288 with 5 Axes>"
            ]
          },
          "metadata": {
            "tags": [],
            "needs_background": "light"
          }
        }
      ]
    },
    {
      "cell_type": "code",
      "metadata": {
        "colab": {
          "base_uri": "https://localhost:8080/"
        },
        "id": "EEEH89SmhJk1",
        "outputId": "72e61693-482a-4f5e-f5ad-ceea67baab04"
      },
      "source": [
        "for i in range(56,76):\r\n",
        "  print(y_train[i])"
      ],
      "execution_count": null,
      "outputs": [
        {
          "output_type": "stream",
          "text": [
            "0\n",
            "9\n",
            "4\n",
            "1\n",
            "4\n",
            "4\n",
            "6\n",
            "0\n",
            "4\n",
            "5\n",
            "6\n",
            "1\n",
            "0\n",
            "0\n",
            "1\n",
            "7\n",
            "1\n",
            "6\n",
            "3\n",
            "0\n"
          ],
          "name": "stdout"
        }
      ]
    },
    {
      "cell_type": "code",
      "metadata": {
        "colab": {
          "base_uri": "https://localhost:8080/",
          "height": 267
        },
        "id": "GDmq94Vv9yIB",
        "outputId": "9a777f9f-a1e9-41c0-c283-ec3e652a2fa9"
      },
      "source": [
        "import matplotlib.pyplot as plt\r\n",
        "import seaborn as sns\r\n",
        "from sklearn import metrics\r\n",
        "\r\n",
        "sns.countplot(x=y_train)\r\n",
        "plt.show()# looks kinda okay"
      ],
      "execution_count": null,
      "outputs": [
        {
          "output_type": "display_data",
          "data": {
            "image/png": "[encoded data removed]",
            "text/plain": [
              "<Figure size 432x288 with 1 Axes>"
            ]
          },
          "metadata": {
            "tags": [],
            "needs_background": "light"
          }
        }
      ]
    },
    {
      "cell_type": "code",
      "metadata": {
        "id": "JjaKXzqCFyNT",
        "colab": {
          "base_uri": "https://localhost:8080/"
        },
        "outputId": "c005c736-7635-4ae3-b304-9189966c4cd9"
      },
      "source": [
        "loss_list_train,loss_list_test, accu_list_train,accu_list_test,_ ,test_pred = train(param,hyperpara,x_train,y_train,x_test,y_test)"
      ],
      "execution_count": null,
      "outputs": [
        {
          "output_type": "stream",
          "text": [
            "Epoch 1, Train Loss 82086.40, Train Accu 0.7452, Test Loss 13536.04, Test Accu 0.7529\n",
            "Epoch 2, Train Loss 61207.02, Train Accu 0.8098, Test Loss 9999.92, Test Accu 0.8166\n",
            "Epoch 3, Train Loss 51202.08, Train Accu 0.8299, Test Loss 8311.06, Test Accu 0.8378\n",
            "Epoch 4, Train Loss 45317.72, Train Accu 0.8426, Test Loss 7320.20, Test Accu 0.8499\n",
            "Epoch 5, Train Loss 41463.02, Train Accu 0.8506, Test Loss 6676.35, Test Accu 0.8569\n",
            "Epoch 6, Train Loss 38703.43, Train Accu 0.8559, Test Loss 6215.57, Test Accu 0.8642\n",
            "Epoch 7, Train Loss 36658.19, Train Accu 0.8605, Test Loss 5876.60, Test Accu 0.8689\n",
            "Epoch 8, Train Loss 35033.31, Train Accu 0.8633, Test Loss 5605.22, Test Accu 0.8725\n",
            "Epoch 9, Train Loss 33708.93, Train Accu 0.8666, Test Loss 5387.91, Test Accu 0.8740\n",
            "Epoch 10, Train Loss 32607.84, Train Accu 0.8694, Test Loss 5206.17, Test Accu 0.8770\n",
            "Epoch 11, Train Loss 31654.25, Train Accu 0.8721, Test Loss 5049.38, Test Accu 0.8801\n",
            "Epoch 12, Train Loss 30859.42, Train Accu 0.8737, Test Loss 4918.20, Test Accu 0.8814\n",
            "Epoch 13, Train Loss 30166.46, Train Accu 0.8753, Test Loss 4803.75, Test Accu 0.8829\n",
            "Epoch 14, Train Loss 29562.84, Train Accu 0.8771, Test Loss 4705.53, Test Accu 0.8844\n",
            "Epoch 15, Train Loss 29023.85, Train Accu 0.8785, Test Loss 4618.44, Test Accu 0.8861\n",
            "Epoch 16, Train Loss 28526.40, Train Accu 0.8800, Test Loss 4537.36, Test Accu 0.8871\n",
            "Epoch 17, Train Loss 28076.46, Train Accu 0.8812, Test Loss 4464.27, Test Accu 0.8883\n",
            "Epoch 18, Train Loss 27670.36, Train Accu 0.8823, Test Loss 4398.42, Test Accu 0.8888\n",
            "Epoch 19, Train Loss 27317.27, Train Accu 0.8832, Test Loss 4340.46, Test Accu 0.8893\n",
            "Epoch 20, Train Loss 26981.38, Train Accu 0.8841, Test Loss 4287.20, Test Accu 0.8899\n"
          ],
          "name": "stdout"
        }
      ]
    },
    {
      "cell_type": "code",
      "metadata": {
        "id": "McUoeqkWpEfF",
        "colab": {
          "base_uri": "https://localhost:8080/",
          "height": 603
        },
        "outputId": "a5c79f02-3ccb-46d2-d67f-f86fd61fc784"
      },
      "source": [
        "plot(loss_list_train,loss_list_test, accu_list_train,accu_list_test)\r\n"
      ],
      "execution_count": null,
      "outputs": [
        {
          "output_type": "display_data",
          "data": {
            "image/png": "[encoded data removed]",
            "text/plain": [
              "<Figure size 432x288 with 1 Axes>"
            ]
          },
          "metadata": {
            "tags": [],
            "needs_background": "light"
          }
        },
        {
          "output_type": "display_data",
          "data": {
            "image/png": "[encoded data removed]",
            "text/plain": [
              "<Figure size 432x288 with 1 Axes>"
            ]
          },
          "metadata": {
            "tags": [],
            "needs_background": "light"
          }
        }
      ]
    },
    {
      "cell_type": "code",
      "metadata": {
        "id": "EImBHeLxqemN",
        "colab": {
          "base_uri": "https://localhost:8080/",
          "height": 246
        },
        "outputId": "4eaa4ca9-2531-43ff-d537-77c36733fa3f"
      },
      "source": [
        "\r\n",
        "\r\n",
        "cm = metrics.confusion_matrix(y_test, test_pred)\r\n",
        "\r\n",
        "plt.figure(figsize=(9,9))\r\n",
        "sns.heatmap(cm, annot=True, fmt=\".3f\", linewidths=.5, square = True, cmap = 'Blues_r');\r\n",
        "plt.ylabel('Actual label');\r\n",
        "plt.xlabel('Predicted label');\r\n",
        "all_sample_title = 'Accuracy Score: {0}'.format(accu_list_test[-1])\r\n",
        "plt.title(all_sample_title, size = 15);"
      ],
      "execution_count": null,
      "outputs": [
        {
          "output_type": "error",
          "ename": "NameError",
          "evalue": "ignored",
          "traceback": [
            "\u001b[0;31m---------------------------------------------------------------------------\u001b[0m",
            "\u001b[0;31mNameError\u001b[0m                                 Traceback (most recent call last)",
            "\u001b[0;32m<ipython-input-1-4dcfff88a9bc>\u001b[0m in \u001b[0;36m<module>\u001b[0;34m()\u001b[0m\n\u001b[1;32m      1\u001b[0m \u001b[0;34m\u001b[0m\u001b[0m\n\u001b[1;32m      2\u001b[0m \u001b[0;34m\u001b[0m\u001b[0m\n\u001b[0;32m----> 3\u001b[0;31m \u001b[0mcm\u001b[0m \u001b[0;34m=\u001b[0m \u001b[0mmetrics\u001b[0m\u001b[0;34m.\u001b[0m\u001b[0mconfusion_matrix\u001b[0m\u001b[0;34m(\u001b[0m\u001b[0my_test\u001b[0m\u001b[0;34m,\u001b[0m \u001b[0mtest_pred\u001b[0m\u001b[0;34m)\u001b[0m\u001b[0;34m\u001b[0m\u001b[0;34m\u001b[0m\u001b[0m\n\u001b[0m\u001b[1;32m      4\u001b[0m \u001b[0;34m\u001b[0m\u001b[0m\n\u001b[1;32m      5\u001b[0m \u001b[0mplt\u001b[0m\u001b[0;34m.\u001b[0m\u001b[0mfigure\u001b[0m\u001b[0;34m(\u001b[0m\u001b[0mfigsize\u001b[0m\u001b[0;34m=\u001b[0m\u001b[0;34m(\u001b[0m\u001b[0;36m9\u001b[0m\u001b[0;34m,\u001b[0m\u001b[0;36m9\u001b[0m\u001b[0;34m)\u001b[0m\u001b[0;34m)\u001b[0m\u001b[0;34m\u001b[0m\u001b[0;34m\u001b[0m\u001b[0m\n",
            "\u001b[0;31mNameError\u001b[0m: name 'metrics' is not defined"
          ]
        }
      ]
    },
    {
      "cell_type": "code",
      "metadata": {
        "colab": {
          "base_uri": "https://localhost:8080/"
        },
        "id": "Q_0tyTWUbzdh",
        "outputId": "867bcd8c-e697-431b-e398-c3fae7ceb9f7"
      },
      "source": [
        "from sklearn.metrics import classification_report\r\n",
        "\r\n",
        "print(classification_report(y_test, test_pred))"
      ],
      "execution_count": null,
      "outputs": [
        {
          "output_type": "stream",
          "text": [
            "              precision    recall  f1-score   support\n",
            "\n",
            "           0       0.92      0.97      0.94       980\n",
            "           1       0.96      0.95      0.96      1135\n",
            "           2       0.88      0.87      0.87      1032\n",
            "           3       0.84      0.89      0.87      1010\n",
            "           4       0.89      0.91      0.90       982\n",
            "           5       0.90      0.76      0.82       892\n",
            "           6       0.89      0.94      0.91       958\n",
            "           7       0.90      0.89      0.90      1028\n",
            "           8       0.84      0.84      0.84       974\n",
            "           9       0.87      0.85      0.86      1009\n",
            "\n",
            "    accuracy                           0.89     10000\n",
            "   macro avg       0.89      0.89      0.89     10000\n",
            "weighted avg       0.89      0.89      0.89     10000\n",
            "\n"
          ],
          "name": "stdout"
        }
      ]
    }
  ]
}